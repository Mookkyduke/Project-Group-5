{
  "nbformat": 4,
  "nbformat_minor": 0,
  "metadata": {
    "colab": {
      "provenance": [],
      "include_colab_link": true
    },
    "kernelspec": {
      "name": "python3",
      "display_name": "Python 3"
    },
    "language_info": {
      "name": "python"
    }
  },
  "cells": [
    {
      "cell_type": "markdown",
      "metadata": {
        "id": "view-in-github",
        "colab_type": "text"
      },
      "source": [
        "<a href=\"https://colab.research.google.com/github/Mookkyduke/Project-Group-5/blob/main/Project_Group_5.ipynb\" target=\"_parent\"><img src=\"https://colab.research.google.com/assets/colab-badge.svg\" alt=\"Open In Colab\"/></a>"
      ]
    },
    {
      "cell_type": "markdown",
      "source": [
        "# Project: Get to Know Your Data\n",
        "รายชื่อสมาชิกกลุ่มที่ 5\n",
        "\n",
        "\n",
        "1.   633020374-6    พงศ์พิชา ขจรฟุ้ง  \n",
        "2.   633020668-9 ณัฏฐ์ชนก พิมพ์ภูคำ\n",
        "\n",
        "\n",
        "จากรายชื่อดังต่อไปนี้ ให้แต่ละกลุ่มเลือกข้อมูล (i.e. Kaggle, Data.World, UCI, Google Dataset, data.go.th/Open Government Data, โปรเจกต์, etc.)\n",
        "มาวิเคราะห์และนำเสนอ โดยประกอบไปด้วย\n",
        "- ที่มาและความสําคัญของโครงงาน\n",
        "- แหล่งข้อมูลและการได้มาซึ่งข้อมูล\n",
        "- จุดมุ่งหมายที่หวังว่าจะได้จากโครงงานนี้"
      ],
      "metadata": {
        "id": "g91NCK4CUVqf"
      }
    },
    {
      "cell_type": "markdown",
      "source": [
        "### **ที่มาและความสำคัญของโครงงาน**\n",
        "ต้นกำเนิดของคริปโทเคอร์เรนซี ที่ได้รับการยอมรับจากทั่วโลกนั้น ได้เกิดขึ้นในปี พ.ศ. 2552 จากการเปิดตัวของเหรียญคริปโทเคอร์เรนซี ที่ใช้ชื่อว่า บิทคอยน์ (Bitcoin) โดยใช้ชื่ออย่อว่า BTC ถูกสร้างขึ้นโดยนักพัฒนาที่ใช้นามแฝงว่า \"ซาโตชิ นากาโมโตะ\" (Satoshi nakamoto) ซึ่งในขณะนั้นบิทคอยน์ ได้เปิดตัวและนำเสนอตัวเองในฐานะที่เป็นเพียง “ระบบการชำระเงิน” (Electronic payment system) เท่านั้น แต่เป็นระบบการชำระเงินที่มี Crytographic หรือการยืนยันธุรกรรมร่วมกันซึ่งก็คือ บล็อกเชน (Blockchain) นั่นเอง\n",
        "\n",
        "เนื่องจากระบบการชำระเงินของ บิทคอยน์ ที่มีพื้นฐานอยู่บนเทคโนโลยีบล็อกเชน ได้สร้างความเชื่อมั่นให้กับผู้ใช้ในฐานะ “เครื่องมือสะสมมูลค่า” เพราะการทำธุรกรรมผ่านบล็อกเชน ทำให้ไม่ต้องอาศัยตัวกลางในการตรวจสอบตัดสินใจ ทำให้ไม่มีใครสามารถเข้าควบคุมการทำธุรกรรมดังกล่าวได้ ไม่เว้นแม้แต่ธนาคารกลาง หรือรัฐบาลของประเทศใด และนั่นคือจุดเริ่มต้นที่ทำให้บิทคอยน์ได้รับการยอมรับว่าเป็นสกุล เงินดิจิทัลแรกของโลก\n",
        "\n",
        "บิตคอยน์ถูกสร้างขึ้นใหม่ด้วย 'การขุด' (mining, การทำเหมือง) และสามารถแลกเป็นสกุลเงินอื่น สินค้า และบริการ ณ เดือนกุมภาพันธ์ พ.ศ. 2558 มีร้านค้ากว่า 100,000 ร้านยอมรับการจ่ายเงินด้วยบิตคอยน์ งานวิจัยจากมหาวิทยาลัยเคมบริดจ์ประมาณว่าใน พ.ศ. 2560 มีผู้ใช้เงินตราแบบดิจิทัล 2.9 ถึง 5.8 ล้านคน โดยส่วนใหญ่แล้วใช้บิตคอยน์\n",
        "\n",
        "อย่างไรก็ตาม แม้ว่าปัจจุบันนักลงทุนทั่วโลกจะหันมาให้ความสนใจกับบิทคอยน์เป็นอย่างมาก แต่ภายใต้กระแสของราคาที่พุ่งสูงขึ้นอย่างรวดเร็วและต่อเนื่องของ\n",
        "บิทคอยน์น้ั้น แสดงให้เห็นว่าราคาของบิทคอยน์มีความผันผวนค่อนข้างสูง ดังนั้นผู้ลงทุนในบิทคอยน์และคริปโทเคอร์เรนซีประเภทที่ไม่มีทรัพย์สินอ้างอิงนั้นจะต้องทำการศึกษาเพื่อให้เข้าใจในตัวเหรียญนั้นเป็นอย่างดีก่อนและสามารถรับความเสี่ยงที่จะเกิดขึ้นจากการลงทุนดังกล่าวได้ และนักลงทุนควรจะตระหนักไว้เสมอว่าบิทคอยน์นั้นเป็นคริปโทเคอร์เรนซีประเภทที่ไม่มีทรัพย์สินอ้างอิง กล่าวคือ หากเปรียบเทียบกับเงินตราแล้ว จะพบว่าก่อนที่รัฐบาลจะผลิตธนบัตร หรือเหรียญออกมา\n",
        "ใช้หมุนเวียนในระบบนั้นจะต้องมีเงิน หรือทองคำ มาเป็นหลักประกันซึ่งแสดงให้เห็นว่าธนบัตร หรือเหรียญนั้น มีมูลค่าในตัวเอง แต่ในกรณีของบิทคอยน์ ซึ่งเป็นคริปโทเคอร์เรนซีประเภทที่ไม่มีทรัพย์สินอ้างอิงนั้น จะไม่มีเงิน ทองคำ หรือทรัพย์สินมีค่าใดๆ มาใช้เป็นหลักประกันในการออกเหรียญ\n",
        "ทำให้สิ่งที่จะมาเป็นตัวกำหนดมูลค่าของบิทคอยน์ มีเพียง อุปสงค์และอุปทานเท่าน้ัน กล่าวคือ เมื่อมีความต้องการหรือมีอุปสงค์ต่อบิทคอยน์เพิ่มขึ้นก็จะทำให้ราคาของบิทคอยน์สูงขึ้นแต่หากเมื่อใดที่อุปสงค์หรือความต้องการลดลงราคาก็จะลดลงตามเช่นกัน\n",
        "\n",
        "จากความเป็นมาและความสำคัญดังกล่าว ผู้จัดทำได้เล็งเห็นถึงความสำคัญในการทำนายราคาของบิทคอยน์เพื่อให้นักลงทุนท่านอื่นๆที่สนใจในเรื่องนี้สามารถมาศึกษา หรือนำเนื้อหาในโปรเจคนี้ใช้เป็นข้อมูลในการวิเคราะห์แนวโน้มและเป็นแนวทางให้กับผู้ที่สนใจ\n"
      ],
      "metadata": {
        "id": "xkP06wA1ZO7m"
      }
    },
    {
      "cell_type": "markdown",
      "source": [
        "### **แหล่งข้อมูลและการได้มาซึ่งข้อมูล**\n",
        "https://finance.yahoo.com/quote/BTC-USD?p=BTC-USD&.tsrc=fin-srch"
      ],
      "metadata": {
        "id": "J3at5z55Zhwa"
      }
    },
    {
      "cell_type": "markdown",
      "source": [
        "### **จุดมุ่งหมายที่หวังว่าจะได้จากโครงงานนี้**\n",
        "\n",
        "\n",
        "1.   สามารถนำความรู้ที่ได้จากการทำโครงงาน ไปประยุกต์ใช้ในรายวิชาโปรเจกต์/สหกิจได้\n",
        "2.   สามารถนำทักษะเกี่ยวกับ Data Mining มาประยุกต์ใช้ในโครงงาน และเพิ่มพูนทักษะอื่นๆได้จากโครงงานที่ทำ\n",
        "3.   สามารถนำข้อมูลที่วิเคราะห์ได้จากโครงงาน ไปปรับใช้กับการทำนายเหรียญคริปโตอื่นๆได้\n",
        "\n",
        "\n"
      ],
      "metadata": {
        "id": "g3DYPnwbZltr"
      }
    },
    {
      "cell_type": "markdown",
      "source": [
        "## Step1: Getting the Data\n",
        "ลองรันข้อมูลดูคร่าวๆ Ex. มีตัวแปรอะไรบ้าง, มีกี่แถว/คอลัมน์"
      ],
      "metadata": {
        "id": "IJSUDQI9a2q_"
      }
    },
    {
      "cell_type": "code",
      "source": [
        "!pip install vectorbt\n",
        "!pip install pandas_ta\n",
        "!pip install yfinance"
      ],
      "metadata": {
        "id": "UCTGTFXFYnfd",
        "outputId": "bee286ff-b6ec-46c1-d724-db38de37cc79",
        "colab": {
          "base_uri": "https://localhost:8080/"
        }
      },
      "execution_count": null,
      "outputs": [
        {
          "output_type": "stream",
          "name": "stdout",
          "text": [
            "Collecting vectorbt\n",
            "  Downloading vectorbt-0.25.5-py3-none-any.whl (526 kB)\n",
            "\u001b[2K     \u001b[90m━━━━━━━━━━━━━━━━━━━━━━━━━━━━━━━━━━━━━━━\u001b[0m \u001b[32m526.7/526.7 kB\u001b[0m \u001b[31m5.4 MB/s\u001b[0m eta \u001b[36m0:00:00\u001b[0m\n",
            "\u001b[?25hRequirement already satisfied: numpy>=1.16.5 in /usr/local/lib/python3.10/dist-packages (from vectorbt) (1.22.4)\n",
            "Requirement already satisfied: pandas in /usr/local/lib/python3.10/dist-packages (from vectorbt) (1.5.3)\n",
            "Requirement already satisfied: scipy in /usr/local/lib/python3.10/dist-packages (from vectorbt) (1.10.1)\n",
            "Requirement already satisfied: matplotlib in /usr/local/lib/python3.10/dist-packages (from vectorbt) (3.7.1)\n",
            "Requirement already satisfied: plotly>=4.12.0 in /usr/local/lib/python3.10/dist-packages (from vectorbt) (5.13.1)\n",
            "Requirement already satisfied: ipywidgets>=7.0.0 in /usr/local/lib/python3.10/dist-packages (from vectorbt) (7.7.1)\n",
            "Collecting dill (from vectorbt)\n",
            "  Downloading dill-0.3.7-py3-none-any.whl (115 kB)\n",
            "\u001b[2K     \u001b[90m━━━━━━━━━━━━━━━━━━━━━━━━━━━━━━━━━━━━━━━\u001b[0m \u001b[32m115.3/115.3 kB\u001b[0m \u001b[31m9.4 MB/s\u001b[0m eta \u001b[36m0:00:00\u001b[0m\n",
            "\u001b[?25hRequirement already satisfied: tqdm in /usr/local/lib/python3.10/dist-packages (from vectorbt) (4.65.0)\n",
            "Collecting dateparser (from vectorbt)\n",
            "  Downloading dateparser-1.1.8-py2.py3-none-any.whl (293 kB)\n",
            "\u001b[2K     \u001b[90m━━━━━━━━━━━━━━━━━━━━━━━━━━━━━━━━━━━━━━\u001b[0m \u001b[32m293.8/293.8 kB\u001b[0m \u001b[31m14.2 MB/s\u001b[0m eta \u001b[36m0:00:00\u001b[0m\n",
            "\u001b[?25hRequirement already satisfied: imageio in /usr/local/lib/python3.10/dist-packages (from vectorbt) (2.25.1)\n",
            "Requirement already satisfied: scikit-learn in /usr/local/lib/python3.10/dist-packages (from vectorbt) (1.2.2)\n",
            "Collecting schedule (from vectorbt)\n",
            "  Downloading schedule-1.2.0-py2.py3-none-any.whl (11 kB)\n",
            "Requirement already satisfied: requests in /usr/local/lib/python3.10/dist-packages (from vectorbt) (2.27.1)\n",
            "Requirement already satisfied: pytz in /usr/local/lib/python3.10/dist-packages (from vectorbt) (2022.7.1)\n",
            "Collecting mypy-extensions (from vectorbt)\n",
            "  Downloading mypy_extensions-1.0.0-py3-none-any.whl (4.7 kB)\n",
            "Requirement already satisfied: numba<0.57.0,>=0.56.0 in /usr/local/lib/python3.10/dist-packages (from vectorbt) (0.56.4)\n",
            "Requirement already satisfied: ipykernel>=4.5.1 in /usr/local/lib/python3.10/dist-packages (from ipywidgets>=7.0.0->vectorbt) (5.5.6)\n",
            "Requirement already satisfied: ipython-genutils~=0.2.0 in /usr/local/lib/python3.10/dist-packages (from ipywidgets>=7.0.0->vectorbt) (0.2.0)\n",
            "Requirement already satisfied: traitlets>=4.3.1 in /usr/local/lib/python3.10/dist-packages (from ipywidgets>=7.0.0->vectorbt) (5.7.1)\n",
            "Requirement already satisfied: widgetsnbextension~=3.6.0 in /usr/local/lib/python3.10/dist-packages (from ipywidgets>=7.0.0->vectorbt) (3.6.4)\n",
            "Requirement already satisfied: ipython>=4.0.0 in /usr/local/lib/python3.10/dist-packages (from ipywidgets>=7.0.0->vectorbt) (7.34.0)\n",
            "Requirement already satisfied: jupyterlab-widgets>=1.0.0 in /usr/local/lib/python3.10/dist-packages (from ipywidgets>=7.0.0->vectorbt) (3.0.8)\n",
            "Requirement already satisfied: llvmlite<0.40,>=0.39.0dev0 in /usr/local/lib/python3.10/dist-packages (from numba<0.57.0,>=0.56.0->vectorbt) (0.39.1)\n",
            "Requirement already satisfied: setuptools in /usr/local/lib/python3.10/dist-packages (from numba<0.57.0,>=0.56.0->vectorbt) (67.7.2)\n",
            "Requirement already satisfied: tenacity>=6.2.0 in /usr/local/lib/python3.10/dist-packages (from plotly>=4.12.0->vectorbt) (8.2.2)\n",
            "Requirement already satisfied: python-dateutil in /usr/local/lib/python3.10/dist-packages (from dateparser->vectorbt) (2.8.2)\n",
            "Requirement already satisfied: regex!=2019.02.19,!=2021.8.27 in /usr/local/lib/python3.10/dist-packages (from dateparser->vectorbt) (2022.10.31)\n",
            "Requirement already satisfied: tzlocal in /usr/local/lib/python3.10/dist-packages (from dateparser->vectorbt) (5.0.1)\n",
            "Requirement already satisfied: pillow>=8.3.2 in /usr/local/lib/python3.10/dist-packages (from imageio->vectorbt) (9.4.0)\n",
            "Requirement already satisfied: contourpy>=1.0.1 in /usr/local/lib/python3.10/dist-packages (from matplotlib->vectorbt) (1.1.0)\n",
            "Requirement already satisfied: cycler>=0.10 in /usr/local/lib/python3.10/dist-packages (from matplotlib->vectorbt) (0.11.0)\n",
            "Requirement already satisfied: fonttools>=4.22.0 in /usr/local/lib/python3.10/dist-packages (from matplotlib->vectorbt) (4.41.1)\n",
            "Requirement already satisfied: kiwisolver>=1.0.1 in /usr/local/lib/python3.10/dist-packages (from matplotlib->vectorbt) (1.4.4)\n",
            "Requirement already satisfied: packaging>=20.0 in /usr/local/lib/python3.10/dist-packages (from matplotlib->vectorbt) (23.1)\n",
            "Requirement already satisfied: pyparsing>=2.3.1 in /usr/local/lib/python3.10/dist-packages (from matplotlib->vectorbt) (3.1.0)\n",
            "Requirement already satisfied: urllib3<1.27,>=1.21.1 in /usr/local/lib/python3.10/dist-packages (from requests->vectorbt) (1.26.16)\n",
            "Requirement already satisfied: certifi>=2017.4.17 in /usr/local/lib/python3.10/dist-packages (from requests->vectorbt) (2023.7.22)\n",
            "Requirement already satisfied: charset-normalizer~=2.0.0 in /usr/local/lib/python3.10/dist-packages (from requests->vectorbt) (2.0.12)\n",
            "Requirement already satisfied: idna<4,>=2.5 in /usr/local/lib/python3.10/dist-packages (from requests->vectorbt) (3.4)\n",
            "Requirement already satisfied: joblib>=1.1.1 in /usr/local/lib/python3.10/dist-packages (from scikit-learn->vectorbt) (1.3.1)\n",
            "Requirement already satisfied: threadpoolctl>=2.0.0 in /usr/local/lib/python3.10/dist-packages (from scikit-learn->vectorbt) (3.2.0)\n",
            "Requirement already satisfied: jupyter-client in /usr/local/lib/python3.10/dist-packages (from ipykernel>=4.5.1->ipywidgets>=7.0.0->vectorbt) (6.1.12)\n",
            "Requirement already satisfied: tornado>=4.2 in /usr/local/lib/python3.10/dist-packages (from ipykernel>=4.5.1->ipywidgets>=7.0.0->vectorbt) (6.3.1)\n",
            "Collecting jedi>=0.16 (from ipython>=4.0.0->ipywidgets>=7.0.0->vectorbt)\n",
            "  Downloading jedi-0.18.2-py2.py3-none-any.whl (1.6 MB)\n",
            "\u001b[2K     \u001b[90m━━━━━━━━━━━━━━━━━━━━━━━━━━━━━━━━━━━━━━━━\u001b[0m \u001b[32m1.6/1.6 MB\u001b[0m \u001b[31m20.8 MB/s\u001b[0m eta \u001b[36m0:00:00\u001b[0m\n",
            "\u001b[?25hRequirement already satisfied: decorator in /usr/local/lib/python3.10/dist-packages (from ipython>=4.0.0->ipywidgets>=7.0.0->vectorbt) (4.4.2)\n",
            "Requirement already satisfied: pickleshare in /usr/local/lib/python3.10/dist-packages (from ipython>=4.0.0->ipywidgets>=7.0.0->vectorbt) (0.7.5)\n",
            "Requirement already satisfied: prompt-toolkit!=3.0.0,!=3.0.1,<3.1.0,>=2.0.0 in /usr/local/lib/python3.10/dist-packages (from ipython>=4.0.0->ipywidgets>=7.0.0->vectorbt) (3.0.39)\n",
            "Requirement already satisfied: pygments in /usr/local/lib/python3.10/dist-packages (from ipython>=4.0.0->ipywidgets>=7.0.0->vectorbt) (2.14.0)\n",
            "Requirement already satisfied: backcall in /usr/local/lib/python3.10/dist-packages (from ipython>=4.0.0->ipywidgets>=7.0.0->vectorbt) (0.2.0)\n",
            "Requirement already satisfied: matplotlib-inline in /usr/local/lib/python3.10/dist-packages (from ipython>=4.0.0->ipywidgets>=7.0.0->vectorbt) (0.1.6)\n",
            "Requirement already satisfied: pexpect>4.3 in /usr/local/lib/python3.10/dist-packages (from ipython>=4.0.0->ipywidgets>=7.0.0->vectorbt) (4.8.0)\n",
            "Requirement already satisfied: six>=1.5 in /usr/local/lib/python3.10/dist-packages (from python-dateutil->dateparser->vectorbt) (1.16.0)\n",
            "Requirement already satisfied: notebook>=4.4.1 in /usr/local/lib/python3.10/dist-packages (from widgetsnbextension~=3.6.0->ipywidgets>=7.0.0->vectorbt) (6.4.8)\n",
            "Requirement already satisfied: parso<0.9.0,>=0.8.0 in /usr/local/lib/python3.10/dist-packages (from jedi>=0.16->ipython>=4.0.0->ipywidgets>=7.0.0->vectorbt) (0.8.3)\n",
            "Requirement already satisfied: jinja2 in /usr/local/lib/python3.10/dist-packages (from notebook>=4.4.1->widgetsnbextension~=3.6.0->ipywidgets>=7.0.0->vectorbt) (3.1.2)\n",
            "Requirement already satisfied: pyzmq>=17 in /usr/local/lib/python3.10/dist-packages (from notebook>=4.4.1->widgetsnbextension~=3.6.0->ipywidgets>=7.0.0->vectorbt) (23.2.1)\n",
            "Requirement already satisfied: argon2-cffi in /usr/local/lib/python3.10/dist-packages (from notebook>=4.4.1->widgetsnbextension~=3.6.0->ipywidgets>=7.0.0->vectorbt) (21.3.0)\n",
            "Requirement already satisfied: jupyter-core>=4.6.1 in /usr/local/lib/python3.10/dist-packages (from notebook>=4.4.1->widgetsnbextension~=3.6.0->ipywidgets>=7.0.0->vectorbt) (5.3.1)\n",
            "Requirement already satisfied: nbformat in /usr/local/lib/python3.10/dist-packages (from notebook>=4.4.1->widgetsnbextension~=3.6.0->ipywidgets>=7.0.0->vectorbt) (5.9.1)\n",
            "Requirement already satisfied: nbconvert in /usr/local/lib/python3.10/dist-packages (from notebook>=4.4.1->widgetsnbextension~=3.6.0->ipywidgets>=7.0.0->vectorbt) (6.5.4)\n",
            "Requirement already satisfied: nest-asyncio>=1.5 in /usr/local/lib/python3.10/dist-packages (from notebook>=4.4.1->widgetsnbextension~=3.6.0->ipywidgets>=7.0.0->vectorbt) (1.5.6)\n",
            "Requirement already satisfied: Send2Trash>=1.8.0 in /usr/local/lib/python3.10/dist-packages (from notebook>=4.4.1->widgetsnbextension~=3.6.0->ipywidgets>=7.0.0->vectorbt) (1.8.2)\n",
            "Requirement already satisfied: terminado>=0.8.3 in /usr/local/lib/python3.10/dist-packages (from notebook>=4.4.1->widgetsnbextension~=3.6.0->ipywidgets>=7.0.0->vectorbt) (0.17.1)\n",
            "Requirement already satisfied: prometheus-client in /usr/local/lib/python3.10/dist-packages (from notebook>=4.4.1->widgetsnbextension~=3.6.0->ipywidgets>=7.0.0->vectorbt) (0.17.1)\n",
            "Requirement already satisfied: ptyprocess>=0.5 in /usr/local/lib/python3.10/dist-packages (from pexpect>4.3->ipython>=4.0.0->ipywidgets>=7.0.0->vectorbt) (0.7.0)\n",
            "Requirement already satisfied: wcwidth in /usr/local/lib/python3.10/dist-packages (from prompt-toolkit!=3.0.0,!=3.0.1,<3.1.0,>=2.0.0->ipython>=4.0.0->ipywidgets>=7.0.0->vectorbt) (0.2.6)\n",
            "Requirement already satisfied: platformdirs>=2.5 in /usr/local/lib/python3.10/dist-packages (from jupyter-core>=4.6.1->notebook>=4.4.1->widgetsnbextension~=3.6.0->ipywidgets>=7.0.0->vectorbt) (3.9.1)\n",
            "Requirement already satisfied: argon2-cffi-bindings in /usr/local/lib/python3.10/dist-packages (from argon2-cffi->notebook>=4.4.1->widgetsnbextension~=3.6.0->ipywidgets>=7.0.0->vectorbt) (21.2.0)\n",
            "Requirement already satisfied: MarkupSafe>=2.0 in /usr/local/lib/python3.10/dist-packages (from jinja2->notebook>=4.4.1->widgetsnbextension~=3.6.0->ipywidgets>=7.0.0->vectorbt) (2.1.3)\n",
            "Requirement already satisfied: lxml in /usr/local/lib/python3.10/dist-packages (from nbconvert->notebook>=4.4.1->widgetsnbextension~=3.6.0->ipywidgets>=7.0.0->vectorbt) (4.9.3)\n",
            "Requirement already satisfied: beautifulsoup4 in /usr/local/lib/python3.10/dist-packages (from nbconvert->notebook>=4.4.1->widgetsnbextension~=3.6.0->ipywidgets>=7.0.0->vectorbt) (4.11.2)\n",
            "Requirement already satisfied: bleach in /usr/local/lib/python3.10/dist-packages (from nbconvert->notebook>=4.4.1->widgetsnbextension~=3.6.0->ipywidgets>=7.0.0->vectorbt) (6.0.0)\n",
            "Requirement already satisfied: defusedxml in /usr/local/lib/python3.10/dist-packages (from nbconvert->notebook>=4.4.1->widgetsnbextension~=3.6.0->ipywidgets>=7.0.0->vectorbt) (0.7.1)\n",
            "Requirement already satisfied: entrypoints>=0.2.2 in /usr/local/lib/python3.10/dist-packages (from nbconvert->notebook>=4.4.1->widgetsnbextension~=3.6.0->ipywidgets>=7.0.0->vectorbt) (0.4)\n",
            "Requirement already satisfied: jupyterlab-pygments in /usr/local/lib/python3.10/dist-packages (from nbconvert->notebook>=4.4.1->widgetsnbextension~=3.6.0->ipywidgets>=7.0.0->vectorbt) (0.2.2)\n",
            "Requirement already satisfied: mistune<2,>=0.8.1 in /usr/local/lib/python3.10/dist-packages (from nbconvert->notebook>=4.4.1->widgetsnbextension~=3.6.0->ipywidgets>=7.0.0->vectorbt) (0.8.4)\n",
            "Requirement already satisfied: nbclient>=0.5.0 in /usr/local/lib/python3.10/dist-packages (from nbconvert->notebook>=4.4.1->widgetsnbextension~=3.6.0->ipywidgets>=7.0.0->vectorbt) (0.8.0)\n",
            "Requirement already satisfied: pandocfilters>=1.4.1 in /usr/local/lib/python3.10/dist-packages (from nbconvert->notebook>=4.4.1->widgetsnbextension~=3.6.0->ipywidgets>=7.0.0->vectorbt) (1.5.0)\n",
            "Requirement already satisfied: tinycss2 in /usr/local/lib/python3.10/dist-packages (from nbconvert->notebook>=4.4.1->widgetsnbextension~=3.6.0->ipywidgets>=7.0.0->vectorbt) (1.2.1)\n",
            "Requirement already satisfied: fastjsonschema in /usr/local/lib/python3.10/dist-packages (from nbformat->notebook>=4.4.1->widgetsnbextension~=3.6.0->ipywidgets>=7.0.0->vectorbt) (2.18.0)\n",
            "Requirement already satisfied: jsonschema>=2.6 in /usr/local/lib/python3.10/dist-packages (from nbformat->notebook>=4.4.1->widgetsnbextension~=3.6.0->ipywidgets>=7.0.0->vectorbt) (4.3.3)\n",
            "Requirement already satisfied: attrs>=17.4.0 in /usr/local/lib/python3.10/dist-packages (from jsonschema>=2.6->nbformat->notebook>=4.4.1->widgetsnbextension~=3.6.0->ipywidgets>=7.0.0->vectorbt) (23.1.0)\n",
            "Requirement already satisfied: pyrsistent!=0.17.0,!=0.17.1,!=0.17.2,>=0.14.0 in /usr/local/lib/python3.10/dist-packages (from jsonschema>=2.6->nbformat->notebook>=4.4.1->widgetsnbextension~=3.6.0->ipywidgets>=7.0.0->vectorbt) (0.19.3)\n",
            "Requirement already satisfied: cffi>=1.0.1 in /usr/local/lib/python3.10/dist-packages (from argon2-cffi-bindings->argon2-cffi->notebook>=4.4.1->widgetsnbextension~=3.6.0->ipywidgets>=7.0.0->vectorbt) (1.15.1)\n",
            "Requirement already satisfied: soupsieve>1.2 in /usr/local/lib/python3.10/dist-packages (from beautifulsoup4->nbconvert->notebook>=4.4.1->widgetsnbextension~=3.6.0->ipywidgets>=7.0.0->vectorbt) (2.4.1)\n",
            "Requirement already satisfied: webencodings in /usr/local/lib/python3.10/dist-packages (from bleach->nbconvert->notebook>=4.4.1->widgetsnbextension~=3.6.0->ipywidgets>=7.0.0->vectorbt) (0.5.1)\n",
            "Requirement already satisfied: pycparser in /usr/local/lib/python3.10/dist-packages (from cffi>=1.0.1->argon2-cffi-bindings->argon2-cffi->notebook>=4.4.1->widgetsnbextension~=3.6.0->ipywidgets>=7.0.0->vectorbt) (2.21)\n",
            "Installing collected packages: schedule, mypy-extensions, jedi, dill, dateparser, vectorbt\n",
            "Successfully installed dateparser-1.1.8 dill-0.3.7 jedi-0.18.2 mypy-extensions-1.0.0 schedule-1.2.0 vectorbt-0.25.5\n",
            "Collecting pandas_ta\n",
            "  Downloading pandas_ta-0.3.14b.tar.gz (115 kB)\n",
            "\u001b[2K     \u001b[90m━━━━━━━━━━━━━━━━━━━━━━━━━━━━━━━━━━━━━━━\u001b[0m \u001b[32m115.1/115.1 kB\u001b[0m \u001b[31m2.1 MB/s\u001b[0m eta \u001b[36m0:00:00\u001b[0m\n",
            "\u001b[?25h  Preparing metadata (setup.py) ... \u001b[?25l\u001b[?25hdone\n",
            "Requirement already satisfied: pandas in /usr/local/lib/python3.10/dist-packages (from pandas_ta) (1.5.3)\n",
            "Requirement already satisfied: python-dateutil>=2.8.1 in /usr/local/lib/python3.10/dist-packages (from pandas->pandas_ta) (2.8.2)\n",
            "Requirement already satisfied: pytz>=2020.1 in /usr/local/lib/python3.10/dist-packages (from pandas->pandas_ta) (2022.7.1)\n",
            "Requirement already satisfied: numpy>=1.21.0 in /usr/local/lib/python3.10/dist-packages (from pandas->pandas_ta) (1.22.4)\n",
            "Requirement already satisfied: six>=1.5 in /usr/local/lib/python3.10/dist-packages (from python-dateutil>=2.8.1->pandas->pandas_ta) (1.16.0)\n",
            "Building wheels for collected packages: pandas_ta\n",
            "  Building wheel for pandas_ta (setup.py) ... \u001b[?25l\u001b[?25hdone\n",
            "  Created wheel for pandas_ta: filename=pandas_ta-0.3.14b0-py3-none-any.whl size=218907 sha256=9a803537c15326c9fdf11f4789821383e4710a3e0438d6f1bb38ba6deb0a6c6c\n",
            "  Stored in directory: /root/.cache/pip/wheels/69/00/ac/f7fa862c34b0e2ef320175100c233377b4c558944f12474cf0\n",
            "Successfully built pandas_ta\n",
            "Installing collected packages: pandas_ta\n",
            "Successfully installed pandas_ta-0.3.14b0\n",
            "Requirement already satisfied: yfinance in /usr/local/lib/python3.10/dist-packages (0.2.25)\n",
            "Requirement already satisfied: pandas>=1.3.0 in /usr/local/lib/python3.10/dist-packages (from yfinance) (1.5.3)\n",
            "Requirement already satisfied: numpy>=1.16.5 in /usr/local/lib/python3.10/dist-packages (from yfinance) (1.22.4)\n",
            "Requirement already satisfied: requests>=2.26 in /usr/local/lib/python3.10/dist-packages (from yfinance) (2.27.1)\n",
            "Requirement already satisfied: multitasking>=0.0.7 in /usr/local/lib/python3.10/dist-packages (from yfinance) (0.0.11)\n",
            "Requirement already satisfied: lxml>=4.9.1 in /usr/local/lib/python3.10/dist-packages (from yfinance) (4.9.3)\n",
            "Requirement already satisfied: appdirs>=1.4.4 in /usr/local/lib/python3.10/dist-packages (from yfinance) (1.4.4)\n",
            "Requirement already satisfied: pytz>=2022.5 in /usr/local/lib/python3.10/dist-packages (from yfinance) (2022.7.1)\n",
            "Requirement already satisfied: frozendict>=2.3.4 in /usr/local/lib/python3.10/dist-packages (from yfinance) (2.3.8)\n",
            "Requirement already satisfied: beautifulsoup4>=4.11.1 in /usr/local/lib/python3.10/dist-packages (from yfinance) (4.11.2)\n",
            "Requirement already satisfied: html5lib>=1.1 in /usr/local/lib/python3.10/dist-packages (from yfinance) (1.1)\n",
            "Requirement already satisfied: soupsieve>1.2 in /usr/local/lib/python3.10/dist-packages (from beautifulsoup4>=4.11.1->yfinance) (2.4.1)\n",
            "Requirement already satisfied: six>=1.9 in /usr/local/lib/python3.10/dist-packages (from html5lib>=1.1->yfinance) (1.16.0)\n",
            "Requirement already satisfied: webencodings in /usr/local/lib/python3.10/dist-packages (from html5lib>=1.1->yfinance) (0.5.1)\n",
            "Requirement already satisfied: python-dateutil>=2.8.1 in /usr/local/lib/python3.10/dist-packages (from pandas>=1.3.0->yfinance) (2.8.2)\n",
            "Requirement already satisfied: urllib3<1.27,>=1.21.1 in /usr/local/lib/python3.10/dist-packages (from requests>=2.26->yfinance) (1.26.16)\n",
            "Requirement already satisfied: certifi>=2017.4.17 in /usr/local/lib/python3.10/dist-packages (from requests>=2.26->yfinance) (2023.7.22)\n",
            "Requirement already satisfied: charset-normalizer~=2.0.0 in /usr/local/lib/python3.10/dist-packages (from requests>=2.26->yfinance) (2.0.12)\n",
            "Requirement already satisfied: idna<4,>=2.5 in /usr/local/lib/python3.10/dist-packages (from requests>=2.26->yfinance) (3.4)\n"
          ]
        }
      ]
    },
    {
      "cell_type": "code",
      "source": [
        "import pandas as pd\n",
        "import matplotlib.pyplot as plt\n",
        "import seaborn as sns\n",
        "import numpy as np\n",
        "from sklearn.model_selection import train_test_split"
      ],
      "metadata": {
        "id": "PpiwcXtxfmKB"
      },
      "execution_count": null,
      "outputs": []
    },
    {
      "cell_type": "code",
      "source": [
        "import pandas as pd\n",
        "import pandas_ta as ta\n",
        "import numpy as np\n",
        "import yfinance as yf\n",
        "import vectorbt as vbt\n",
        "from datetime import datetime"
      ],
      "metadata": {
        "id": "3AjGtNHQYsbn"
      },
      "execution_count": null,
      "outputs": []
    },
    {
      "cell_type": "code",
      "source": [
        "#กำหนดวันเริ่มและจบของข้อมูล\n",
        "start_date = datetime(2015,10,1)\n",
        "end_date = datetime(2022,10,1)"
      ],
      "metadata": {
        "id": "g3Ypip0OYvxj"
      },
      "execution_count": null,
      "outputs": []
    },
    {
      "cell_type": "code",
      "source": [
        "#กำหนดตัวแปรเป็น BTC-USD หรือ เป็นตัวอื่นได้เหมือนกัน\n",
        "data = pd.DataFrame()\n",
        "data = data.ta.ticker('BTC-USD',start=start_date,end=end_date)"
      ],
      "metadata": {
        "id": "nQYB5uSZY6vr"
      },
      "execution_count": null,
      "outputs": []
    },
    {
      "cell_type": "code",
      "source": [
        "data.head()"
      ],
      "metadata": {
        "colab": {
          "base_uri": "https://localhost:8080/",
          "height": 238
        },
        "id": "De32NlFbis-F",
        "outputId": "a857191b-7fcb-4897-f611-1c98ada9b8f5"
      },
      "execution_count": null,
      "outputs": [
        {
          "output_type": "execute_result",
          "data": {
            "text/plain": [
              "                                 Open        High         Low       Close  \\\n",
              "Date                                                                        \n",
              "2015-10-01 00:00:00+00:00  236.003998  238.445007  235.615997  237.548996   \n",
              "2015-10-02 00:00:00+00:00  237.264008  238.541000  236.602997  237.292999   \n",
              "2015-10-03 00:00:00+00:00  237.201996  239.315002  236.944000  238.729996   \n",
              "2015-10-04 00:00:00+00:00  238.531006  238.968002  237.940002  238.259003   \n",
              "2015-10-05 00:00:00+00:00  238.147003  240.382996  237.035004  240.382996   \n",
              "\n",
              "                             Volume  Dividends  Stock Splits  \n",
              "Date                                                          \n",
              "2015-10-01 00:00:00+00:00  20488800        0.0           0.0  \n",
              "2015-10-02 00:00:00+00:00  19677900        0.0           0.0  \n",
              "2015-10-03 00:00:00+00:00  16482700        0.0           0.0  \n",
              "2015-10-04 00:00:00+00:00  12999000        0.0           0.0  \n",
              "2015-10-05 00:00:00+00:00  23335900        0.0           0.0  "
            ],
            "text/html": [
              "\n",
              "\n",
              "  <div id=\"df-944a05d9-be82-4411-b97a-0ffba3e71bd4\">\n",
              "    <div class=\"colab-df-container\">\n",
              "      <div>\n",
              "<style scoped>\n",
              "    .dataframe tbody tr th:only-of-type {\n",
              "        vertical-align: middle;\n",
              "    }\n",
              "\n",
              "    .dataframe tbody tr th {\n",
              "        vertical-align: top;\n",
              "    }\n",
              "\n",
              "    .dataframe thead th {\n",
              "        text-align: right;\n",
              "    }\n",
              "</style>\n",
              "<table border=\"1\" class=\"dataframe\">\n",
              "  <thead>\n",
              "    <tr style=\"text-align: right;\">\n",
              "      <th></th>\n",
              "      <th>Open</th>\n",
              "      <th>High</th>\n",
              "      <th>Low</th>\n",
              "      <th>Close</th>\n",
              "      <th>Volume</th>\n",
              "      <th>Dividends</th>\n",
              "      <th>Stock Splits</th>\n",
              "    </tr>\n",
              "    <tr>\n",
              "      <th>Date</th>\n",
              "      <th></th>\n",
              "      <th></th>\n",
              "      <th></th>\n",
              "      <th></th>\n",
              "      <th></th>\n",
              "      <th></th>\n",
              "      <th></th>\n",
              "    </tr>\n",
              "  </thead>\n",
              "  <tbody>\n",
              "    <tr>\n",
              "      <th>2015-10-01 00:00:00+00:00</th>\n",
              "      <td>236.003998</td>\n",
              "      <td>238.445007</td>\n",
              "      <td>235.615997</td>\n",
              "      <td>237.548996</td>\n",
              "      <td>20488800</td>\n",
              "      <td>0.0</td>\n",
              "      <td>0.0</td>\n",
              "    </tr>\n",
              "    <tr>\n",
              "      <th>2015-10-02 00:00:00+00:00</th>\n",
              "      <td>237.264008</td>\n",
              "      <td>238.541000</td>\n",
              "      <td>236.602997</td>\n",
              "      <td>237.292999</td>\n",
              "      <td>19677900</td>\n",
              "      <td>0.0</td>\n",
              "      <td>0.0</td>\n",
              "    </tr>\n",
              "    <tr>\n",
              "      <th>2015-10-03 00:00:00+00:00</th>\n",
              "      <td>237.201996</td>\n",
              "      <td>239.315002</td>\n",
              "      <td>236.944000</td>\n",
              "      <td>238.729996</td>\n",
              "      <td>16482700</td>\n",
              "      <td>0.0</td>\n",
              "      <td>0.0</td>\n",
              "    </tr>\n",
              "    <tr>\n",
              "      <th>2015-10-04 00:00:00+00:00</th>\n",
              "      <td>238.531006</td>\n",
              "      <td>238.968002</td>\n",
              "      <td>237.940002</td>\n",
              "      <td>238.259003</td>\n",
              "      <td>12999000</td>\n",
              "      <td>0.0</td>\n",
              "      <td>0.0</td>\n",
              "    </tr>\n",
              "    <tr>\n",
              "      <th>2015-10-05 00:00:00+00:00</th>\n",
              "      <td>238.147003</td>\n",
              "      <td>240.382996</td>\n",
              "      <td>237.035004</td>\n",
              "      <td>240.382996</td>\n",
              "      <td>23335900</td>\n",
              "      <td>0.0</td>\n",
              "      <td>0.0</td>\n",
              "    </tr>\n",
              "  </tbody>\n",
              "</table>\n",
              "</div>\n",
              "      <button class=\"colab-df-convert\" onclick=\"convertToInteractive('df-944a05d9-be82-4411-b97a-0ffba3e71bd4')\"\n",
              "              title=\"Convert this dataframe to an interactive table.\"\n",
              "              style=\"display:none;\">\n",
              "\n",
              "  <svg xmlns=\"http://www.w3.org/2000/svg\" height=\"24px\"viewBox=\"0 0 24 24\"\n",
              "       width=\"24px\">\n",
              "    <path d=\"M0 0h24v24H0V0z\" fill=\"none\"/>\n",
              "    <path d=\"M18.56 5.44l.94 2.06.94-2.06 2.06-.94-2.06-.94-.94-2.06-.94 2.06-2.06.94zm-11 1L8.5 8.5l.94-2.06 2.06-.94-2.06-.94L8.5 2.5l-.94 2.06-2.06.94zm10 10l.94 2.06.94-2.06 2.06-.94-2.06-.94-.94-2.06-.94 2.06-2.06.94z\"/><path d=\"M17.41 7.96l-1.37-1.37c-.4-.4-.92-.59-1.43-.59-.52 0-1.04.2-1.43.59L10.3 9.45l-7.72 7.72c-.78.78-.78 2.05 0 2.83L4 21.41c.39.39.9.59 1.41.59.51 0 1.02-.2 1.41-.59l7.78-7.78 2.81-2.81c.8-.78.8-2.07 0-2.86zM5.41 20L4 18.59l7.72-7.72 1.47 1.35L5.41 20z\"/>\n",
              "  </svg>\n",
              "      </button>\n",
              "\n",
              "\n",
              "\n",
              "    <div id=\"df-bdaefac6-ea8d-4e8d-9c5b-2499f037e868\">\n",
              "      <button class=\"colab-df-quickchart\" onclick=\"quickchart('df-bdaefac6-ea8d-4e8d-9c5b-2499f037e868')\"\n",
              "              title=\"Suggest charts.\"\n",
              "              style=\"display:none;\">\n",
              "\n",
              "<svg xmlns=\"http://www.w3.org/2000/svg\" height=\"24px\"viewBox=\"0 0 24 24\"\n",
              "     width=\"24px\">\n",
              "    <g>\n",
              "        <path d=\"M19 3H5c-1.1 0-2 .9-2 2v14c0 1.1.9 2 2 2h14c1.1 0 2-.9 2-2V5c0-1.1-.9-2-2-2zM9 17H7v-7h2v7zm4 0h-2V7h2v10zm4 0h-2v-4h2v4z\"/>\n",
              "    </g>\n",
              "</svg>\n",
              "      </button>\n",
              "    </div>\n",
              "\n",
              "<style>\n",
              "  .colab-df-quickchart {\n",
              "    background-color: #E8F0FE;\n",
              "    border: none;\n",
              "    border-radius: 50%;\n",
              "    cursor: pointer;\n",
              "    display: none;\n",
              "    fill: #1967D2;\n",
              "    height: 32px;\n",
              "    padding: 0 0 0 0;\n",
              "    width: 32px;\n",
              "  }\n",
              "\n",
              "  .colab-df-quickchart:hover {\n",
              "    background-color: #E2EBFA;\n",
              "    box-shadow: 0px 1px 2px rgba(60, 64, 67, 0.3), 0px 1px 3px 1px rgba(60, 64, 67, 0.15);\n",
              "    fill: #174EA6;\n",
              "  }\n",
              "\n",
              "  [theme=dark] .colab-df-quickchart {\n",
              "    background-color: #3B4455;\n",
              "    fill: #D2E3FC;\n",
              "  }\n",
              "\n",
              "  [theme=dark] .colab-df-quickchart:hover {\n",
              "    background-color: #434B5C;\n",
              "    box-shadow: 0px 1px 3px 1px rgba(0, 0, 0, 0.15);\n",
              "    filter: drop-shadow(0px 1px 2px rgba(0, 0, 0, 0.3));\n",
              "    fill: #FFFFFF;\n",
              "  }\n",
              "</style>\n",
              "\n",
              "    <script>\n",
              "      async function quickchart(key) {\n",
              "        const containerElement = document.querySelector('#' + key);\n",
              "        const charts = await google.colab.kernel.invokeFunction(\n",
              "            'suggestCharts', [key], {});\n",
              "      }\n",
              "    </script>\n",
              "\n",
              "      <script>\n",
              "\n",
              "function displayQuickchartButton(domScope) {\n",
              "  let quickchartButtonEl =\n",
              "    domScope.querySelector('#df-bdaefac6-ea8d-4e8d-9c5b-2499f037e868 button.colab-df-quickchart');\n",
              "  quickchartButtonEl.style.display =\n",
              "    google.colab.kernel.accessAllowed ? 'block' : 'none';\n",
              "}\n",
              "\n",
              "        displayQuickchartButton(document);\n",
              "      </script>\n",
              "      <style>\n",
              "    .colab-df-container {\n",
              "      display:flex;\n",
              "      flex-wrap:wrap;\n",
              "      gap: 12px;\n",
              "    }\n",
              "\n",
              "    .colab-df-convert {\n",
              "      background-color: #E8F0FE;\n",
              "      border: none;\n",
              "      border-radius: 50%;\n",
              "      cursor: pointer;\n",
              "      display: none;\n",
              "      fill: #1967D2;\n",
              "      height: 32px;\n",
              "      padding: 0 0 0 0;\n",
              "      width: 32px;\n",
              "    }\n",
              "\n",
              "    .colab-df-convert:hover {\n",
              "      background-color: #E2EBFA;\n",
              "      box-shadow: 0px 1px 2px rgba(60, 64, 67, 0.3), 0px 1px 3px 1px rgba(60, 64, 67, 0.15);\n",
              "      fill: #174EA6;\n",
              "    }\n",
              "\n",
              "    [theme=dark] .colab-df-convert {\n",
              "      background-color: #3B4455;\n",
              "      fill: #D2E3FC;\n",
              "    }\n",
              "\n",
              "    [theme=dark] .colab-df-convert:hover {\n",
              "      background-color: #434B5C;\n",
              "      box-shadow: 0px 1px 3px 1px rgba(0, 0, 0, 0.15);\n",
              "      filter: drop-shadow(0px 1px 2px rgba(0, 0, 0, 0.3));\n",
              "      fill: #FFFFFF;\n",
              "    }\n",
              "  </style>\n",
              "\n",
              "      <script>\n",
              "        const buttonEl =\n",
              "          document.querySelector('#df-944a05d9-be82-4411-b97a-0ffba3e71bd4 button.colab-df-convert');\n",
              "        buttonEl.style.display =\n",
              "          google.colab.kernel.accessAllowed ? 'block' : 'none';\n",
              "\n",
              "        async function convertToInteractive(key) {\n",
              "          const element = document.querySelector('#df-944a05d9-be82-4411-b97a-0ffba3e71bd4');\n",
              "          const dataTable =\n",
              "            await google.colab.kernel.invokeFunction('convertToInteractive',\n",
              "                                                     [key], {});\n",
              "          if (!dataTable) return;\n",
              "\n",
              "          const docLinkHtml = 'Like what you see? Visit the ' +\n",
              "            '<a target=\"_blank\" href=https://colab.research.google.com/notebooks/data_table.ipynb>data table notebook</a>'\n",
              "            + ' to learn more about interactive tables.';\n",
              "          element.innerHTML = '';\n",
              "          dataTable['output_type'] = 'display_data';\n",
              "          await google.colab.output.renderOutput(dataTable, element);\n",
              "          const docLink = document.createElement('div');\n",
              "          docLink.innerHTML = docLinkHtml;\n",
              "          element.appendChild(docLink);\n",
              "        }\n",
              "      </script>\n",
              "    </div>\n",
              "  </div>\n"
            ]
          },
          "metadata": {},
          "execution_count": 6
        }
      ]
    },
    {
      "cell_type": "code",
      "source": [
        "data.shape"
      ],
      "metadata": {
        "colab": {
          "base_uri": "https://localhost:8080/"
        },
        "id": "c-IFR1QtiyMe",
        "outputId": "ea5cd2f6-d787-4b31-d359-1f4b0550b863"
      },
      "execution_count": null,
      "outputs": [
        {
          "output_type": "execute_result",
          "data": {
            "text/plain": [
              "(2557, 7)"
            ]
          },
          "metadata": {},
          "execution_count": 7
        }
      ]
    },
    {
      "cell_type": "code",
      "source": [
        "data.info"
      ],
      "metadata": {
        "colab": {
          "base_uri": "https://localhost:8080/"
        },
        "id": "w9coUXTYi5N7",
        "outputId": "d50d003f-2ea3-4e13-e9ae-f6225672bab8"
      },
      "execution_count": null,
      "outputs": [
        {
          "output_type": "execute_result",
          "data": {
            "text/plain": [
              "<bound method DataFrame.info of                                    Open          High           Low  \\\n",
              "Date                                                                  \n",
              "2015-10-01 00:00:00+00:00    236.003998    238.445007    235.615997   \n",
              "2015-10-02 00:00:00+00:00    237.264008    238.541000    236.602997   \n",
              "2015-10-03 00:00:00+00:00    237.201996    239.315002    236.944000   \n",
              "2015-10-04 00:00:00+00:00    238.531006    238.968002    237.940002   \n",
              "2015-10-05 00:00:00+00:00    238.147003    240.382996    237.035004   \n",
              "...                                 ...           ...           ...   \n",
              "2022-09-26 00:00:00+00:00  18803.900391  19274.873047  18721.285156   \n",
              "2022-09-27 00:00:00+00:00  19221.839844  20338.455078  18915.667969   \n",
              "2022-09-28 00:00:00+00:00  19104.621094  19688.343750  18553.296875   \n",
              "2022-09-29 00:00:00+00:00  19427.779297  19589.265625  18924.353516   \n",
              "2022-09-30 00:00:00+00:00  19573.431641  20109.849609  19265.662109   \n",
              "\n",
              "                                  Close       Volume  Dividends  Stock Splits  \n",
              "Date                                                                           \n",
              "2015-10-01 00:00:00+00:00    237.548996     20488800        0.0           0.0  \n",
              "2015-10-02 00:00:00+00:00    237.292999     19677900        0.0           0.0  \n",
              "2015-10-03 00:00:00+00:00    238.729996     16482700        0.0           0.0  \n",
              "2015-10-04 00:00:00+00:00    238.259003     12999000        0.0           0.0  \n",
              "2015-10-05 00:00:00+00:00    240.382996     23335900        0.0           0.0  \n",
              "...                                 ...          ...        ...           ...  \n",
              "2022-09-26 00:00:00+00:00  19222.671875  44148798321        0.0           0.0  \n",
              "2022-09-27 00:00:00+00:00  19110.546875  58571439619        0.0           0.0  \n",
              "2022-09-28 00:00:00+00:00  19426.720703  53071298734        0.0           0.0  \n",
              "2022-09-29 00:00:00+00:00  19573.050781  41037843771        0.0           0.0  \n",
              "2022-09-30 00:00:00+00:00  19431.789062  43975248085        0.0           0.0  \n",
              "\n",
              "[2557 rows x 7 columns]>"
            ]
          },
          "metadata": {},
          "execution_count": 8
        }
      ]
    }
  ]
}